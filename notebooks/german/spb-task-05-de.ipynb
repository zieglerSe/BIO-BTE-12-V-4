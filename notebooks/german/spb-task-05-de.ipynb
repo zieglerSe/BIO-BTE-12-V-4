{
 "cells": [
  {
   "cell_type": "markdown",
   "metadata": {},
   "source": [
    "# SPB V - Programmieren mit Objekten\n",
    "---\n",
    "In dieser Übung lernst du die Benutzung von veränderlichen Werten, und wie du sie in Funktionen und Objekten kapseln kannst. Du lernst außerdem, wie man Klassen und Objekte erstellt, und den Unterschied zwischen Vererbung und Polymorphismen."
   ]
  },
  {
   "cell_type": "markdown",
   "metadata": {},
   "source": [
    "# Task 1: Veränderliche Werte\n",
    "\n",
    "Erstellen und Verändern von veränderlichen Werten\n",
    "\n",
    "Tipp: \n",
    "\n",
    "- Benutzt das `mutable` keyword\n",
    "- Zur Veränderung der Werte wird der `<-` Operator verwendet"
   ]
  },
  {
   "cell_type": "markdown",
   "metadata": {},
   "source": [
    "## Task 1.1\n",
    "\n",
    "Erstelle einen veränderlichen Integer mit dem Wert 10 und binde ihn an den Namen x\n"
   ]
  },
  {
   "cell_type": "code",
   "execution_count": 37,
   "metadata": {
    "dotnet_interactive": {
     "language": "fsharp"
    }
   },
   "outputs": [],
   "source": [
    "\n",
    "let mutable x = 10 \n"
   ]
  },
  {
   "cell_type": "markdown",
   "metadata": {},
   "source": [
    "## Task 1.2\n",
    "\n",
    "Verändere den Wert der an x gebunden ist indem ihr den Wert den x trägt mit 2 multipliziert \n",
    "\n"
   ]
  },
  {
   "cell_type": "code",
   "execution_count": 38,
   "metadata": {
    "dotnet_interactive": {
     "language": "fsharp"
    }
   },
   "outputs": [],
   "source": [
    "\n",
    "x <- (x * 2)\n"
   ]
  },
  {
   "cell_type": "markdown",
   "metadata": {},
   "source": [
    "## Task 1.3\n",
    "\n",
    "Erstelle einen Record Type `Mensch` mit \n",
    "\n",
    "- dem unveränderlichen Feld `Name` vom Typ string\n",
    "- und dem veränderlichen Feld `Alter` vom Typ int\n",
    "\n"
   ]
  },
  {
   "cell_type": "code",
   "execution_count": 39,
   "metadata": {
    "dotnet_interactive": {
     "language": "fsharp"
    }
   },
   "outputs": [],
   "source": [
    "\n",
    "type Mensch = \n",
    "    {\n",
    "        Name: string\n",
    "        mutable Alter: int\n",
    "    }\n"
   ]
  },
  {
   "cell_type": "markdown",
   "metadata": {},
   "source": [
    "## Task 1.4\n",
    "\n",
    "Erstelle die Funktion `geburtstagFeiern` die als Parameter einen Wert des Typen `Mensch` erhält und das Alter des Menschen um eins erhöht\n",
    "\n"
   ]
  },
  {
   "cell_type": "code",
   "execution_count": 40,
   "metadata": {
    "dotnet_interactive": {
     "language": "fsharp"
    }
   },
   "outputs": [],
   "source": [
    "\n",
    "let geburtstagFeiern (m : Mensch) =\n",
    "    m.Alter <- m.Alter + 1"
   ]
  },
  {
   "cell_type": "markdown",
   "metadata": {},
   "source": [
    "## Task 1.5\n",
    "\n",
    "Erstelle einen Menschen, binde ihn an einen Namen und lass diesen erstellten Menschen mit der Funktion `geburtstagFeiern` altern.\n",
    "\n"
   ]
  },
  {
   "cell_type": "code",
   "execution_count": 41,
   "metadata": {
    "dotnet_interactive": {
     "language": "fsharp"
    }
   },
   "outputs": [
    {
     "data": {
      "text/html": [
       "<div class=\"dni-plaintext\"><pre>23</pre></div><style>\r\n",
       ".dni-code-hint {\r\n",
       "    font-style: italic;\r\n",
       "    overflow: hidden;\r\n",
       "    white-space: nowrap;\r\n",
       "}\r\n",
       ".dni-treeview {\r\n",
       "    white-space: nowrap;\r\n",
       "}\r\n",
       ".dni-treeview td {\r\n",
       "    vertical-align: top;\r\n",
       "    text-align: start;\r\n",
       "}\r\n",
       "details.dni-treeview {\r\n",
       "    padding-left: 1em;\r\n",
       "}\r\n",
       "table td {\r\n",
       "    text-align: start;\r\n",
       "}\r\n",
       "table tr { \r\n",
       "    vertical-align: top; \r\n",
       "    margin: 0em 0px;\r\n",
       "}\r\n",
       "table tr td pre \r\n",
       "{ \r\n",
       "    vertical-align: top !important; \r\n",
       "    margin: 0em 0px !important;\r\n",
       "} \r\n",
       "table th {\r\n",
       "    text-align: start;\r\n",
       "}\r\n",
       "</style>"
      ]
     },
     "metadata": {},
     "output_type": "display_data"
    }
   ],
   "source": [
    "\n",
    "let mensch1 = { Name = \"Max\"; Alter = 22 }\n",
    "\n",
    "geburtstagFeiern mensch1\n",
    "\n",
    "mensch1.Alter"
   ]
  },
  {
   "cell_type": "markdown",
   "metadata": {},
   "source": [
    "## Task 1.6: Veränderliche Werte in Funktionen (Bonusaufgabe) \n",
    "\n",
    "Erstelle eine eigene Version der `List.max` Funktion. Diese Funktion soll ein Liste von ints erhalten und den höchsten der ints zurückgeben.\n",
    "\n",
    "Signatur: `int list -> int`\n",
    "\n",
    "Dabei soll der aktuell größte int ein `veränderlicher Wert` sein und es soll eine `for-Schleife` verwendet werden.\n",
    "\n",
    "\n"
   ]
  },
  {
   "cell_type": "code",
   "execution_count": 42,
   "metadata": {
    "dotnet_interactive": {
     "language": "fsharp"
    }
   },
   "outputs": [],
   "source": [
    "\n",
    "let listMax  (list : int list) = \n",
    "    let mutable maxValue = list.[0] \n",
    "    for i in list do\n",
    "        if i > maxValue then\n",
    "            maxValue <- i\n",
    "    maxValue"
   ]
  },
  {
   "cell_type": "markdown",
   "metadata": {},
   "source": [
    "# Task 2: Klassen und Objekte"
   ]
  },
  {
   "cell_type": "markdown",
   "metadata": {},
   "source": [
    "## Task 2.1: Grundlagen"
   ]
  },
  {
   "cell_type": "markdown",
   "metadata": {},
   "source": [
    "\n",
    "### Subtask 2.1.1\n",
    "\n",
    "Im folgenden wird die Klasse `Fahrzeug` erstellt. Versuche nachzuvollziehen, was passiert und kommentiere jede Zeile kurz\n",
    "\n",
    "Keywortfundgrube: Methode, Feld, Konstruktor, Parameter, alternativ, binden\n",
    "\n",
    "\n"
   ]
  },
  {
   "cell_type": "code",
   "execution_count": 43,
   "metadata": {
    "dotnet_interactive": {
     "language": "fsharp"
    }
   },
   "outputs": [],
   "source": [
    "// Kommentar:Es wird eine Klasse namens `Fahrzeug` erstellt, deren Hauptkonstruktor einen Parameter namens `hersteller` vom Typ string erhält\n",
    "type Fahrzeug (hersteller:string) =\n",
    "    // Kommentar:Ein Feld namens `Hersteller` wird definiert, an das der Wert des parameters `hersteller` gebunden wird\n",
    "    member self.Hersteller = hersteller\n",
    "    // Kommentar:Es wird eine parameterlose Methode namens `Fahren` definiert, welche über die Selbstreferenz das Feld `Hersteller` verwendet\n",
    "    member self.Fahren() = printfn \"%s macht brumm brumm\" self.Hersteller\n",
    "    // Kommentar: Ein parameterloser alternativer Konstruktor wird erstellt.\n",
    "    new() = Fahrzeug(\"Smart\")\n"
   ]
  },
  {
   "cell_type": "markdown",
   "metadata": {},
   "source": [
    "### Subtask 2.1.2\n",
    "\n",
    "Instanziiere 2 Objekte des Typs `Fahrzeug`. Verwende einmal den den Haupt- und einmal den alternativen Konstruktor\n",
    "\n"
   ]
  },
  {
   "cell_type": "code",
   "execution_count": 44,
   "metadata": {
    "dotnet_interactive": {
     "language": "fsharp"
    }
   },
   "outputs": [],
   "source": [
    "let car1 = new Fahrzeug(\"Toyota\")\n",
    "let car2 = new Fahrzeug()\n"
   ]
  },
  {
   "cell_type": "markdown",
   "metadata": {},
   "source": [
    "## Task 2.2: Vererbung\n"
   ]
  },
  {
   "cell_type": "markdown",
   "metadata": {},
   "source": [
    "### Subtask 2.2.1\n",
    "\n",
    "Hier ist ein Beispiel für die Vererbung eines Typen, namentlich der Typ `Motorrad` der vom Typ `Fahrzeug` erbt. \n",
    "\n",
    "Erstelle analog einen Typen `Auto`, der auch vom Typ `Fahrzeug` erben soll. Dieser Typ soll aber zusätzlich das Feld `AnzahlTueren` enthalten. \n",
    "Wähle hierzu einen passenden primitiven Typen und passe auch den Konstruktor an, sodass diese Anzahl der Türen auch beim Instanziieren gesetzt werden kann.\n",
    "\n"
   ]
  },
  {
   "cell_type": "code",
   "execution_count": 45,
   "metadata": {
    "dotnet_interactive": {
     "language": "fsharp"
    }
   },
   "outputs": [],
   "source": [
    "type Motorrad (hersteller:string) =\n",
    "\n",
    "    inherit Fahrzeug(hersteller)\n",
    "\n",
    "    new() = Motorrad(\"Harley Davidson\")\n",
    "\n",
    "type Auto (hersteller : string, anzahlTueren : int) =\n",
    "\n",
    "    inherit Fahrzeug(hersteller)\n",
    "\n",
    "    member self.AnzahlTueren = anzahlTueren\n",
    "\n",
    "    new() = Auto(\"Mercedes\",4)\n"
   ]
  },
  {
   "cell_type": "markdown",
   "metadata": {},
   "source": [
    "### Subtask 2.2.2\n",
    "\n",
    "Erstelle eine Funktion, welche einen Parameter des Typs `Fahrzeug` enthält und die Methode `Fahren` dieses Fahrzeuges ausführt.\n",
    "\n"
   ]
  },
  {
   "cell_type": "code",
   "execution_count": 46,
   "metadata": {
    "dotnet_interactive": {
     "language": "fsharp"
    }
   },
   "outputs": [],
   "source": [
    "let fahren (fahrzeug : #Fahrzeug) =\n",
    "\n",
    "    fahrzeug.Fahren()\n"
   ]
  },
  {
   "cell_type": "markdown",
   "metadata": {},
   "source": [
    "### Subtask 2.2.3\n",
    "\n",
    "Erstelle ein `Auto` und binde es an einen Namen. Dann wende die oben definierte Funktion zum `Fahren` darauf an."
   ]
  },
  {
   "cell_type": "code",
   "execution_count": 47,
   "metadata": {
    "dotnet_interactive": {
     "language": "fsharp"
    }
   },
   "outputs": [
    {
     "name": "stdout",
     "output_type": "stream",
     "text": [
      "Toyota macht brumm brumm\n"
     ]
    }
   ],
   "source": [
    "let car3 = new Auto(\"Toyota\", 3)\n",
    "\n",
    "fahren car3"
   ]
  },
  {
   "cell_type": "markdown",
   "metadata": {},
   "source": [
    "## Task 2.3 Veränderliche Werte in Objekten (Bonusaufgabe)\n",
    "\n",
    "Deklariere eine Klasse `Cabrio` die vom Typ `Fahrzeug` erbt. \n",
    "\n",
    "Diese Klasse soll ein Feld `DachOffen` vom Typ `bool` haben und zusätzlich Methoden, mit denen man das Dach öffnen und schließen kann"
   ]
  },
  {
   "cell_type": "code",
   "execution_count": 48,
   "metadata": {
    "dotnet_interactive": {
     "language": "fsharp"
    }
   },
   "outputs": [
    {
     "name": "stdout",
     "output_type": "stream",
     "text": [
      "Das Dach ist jetzt offen.\n"
     ]
    }
   ],
   "source": [
    "type Cabrio (hersteller:string) =\n",
    "\n",
    "    inherit Fahrzeug(hersteller)\n",
    "\n",
    "    let mutable dachOffen = false\n",
    "\n",
    "    // Feld abrufbar aber nicht verwänderbar\n",
    "    member this.DachOffen = dachOffen\n",
    "\n",
    "    // Methoden, zur gezielten Zustandsänderung\n",
    "    member self.Oeffnen() = \n",
    "        if dachOffen then printfn \"Das Dach ist bereits offen!\"\n",
    "        else printfn \"Das Dach ist jetzt offen.\"\n",
    "        dachOffen <- true\n",
    "\n",
    "    member self.Schliessen() = \n",
    "        if dachOffen then printfn \"Das Dach ist jetzt zu!\"\n",
    "        else printfn \"Das Dach ist schon zu!\"\n",
    "        dachOffen <- false        \n",
    "\n",
    "    // Methoden, zum automatischen Zustandswechsel\n",
    "    member this.DachBetaetigen() =\n",
    "        if dachOffen = true then \n",
    "            dachOffen <- false\n",
    "        else\n",
    "            dachOffen <- true\n",
    "\n",
    "// Zusätzliche Hilfsfunktionen\n",
    "let dachSchliessen (c:Cabrio) = \n",
    "    c.Schliessen()\n",
    "\n",
    "let dachOeffnen (c:Cabrio) = \n",
    "    c.Oeffnen()\n",
    "\n",
    "\n",
    "let neuesCabrio = new Cabrio(\"Audi\")\n",
    "\n",
    "dachOeffnen neuesCabrio"
   ]
  },
  {
   "cell_type": "code",
   "execution_count": 49,
   "metadata": {
    "dotnet_interactive": {
     "language": "fsharp"
    },
    "polyglot_notebook": {
     "kernelName": "fsharp"
    }
   },
   "outputs": [],
   "source": [
    "type Cabrio2 (hersteller:string, tueren:int) =\n",
    "\n",
    "    inherit Auto(hersteller,tueren)\n",
    "\n",
    "    let mutable dachOffen = false\n",
    "\n",
    "    // Feld abrufbar und verwänderbar\n",
    "    member this.DachOffen\n",
    "        with get () = dachOffen\n",
    "        and set (v) = dachOffen <- v\n",
    "\n",
    "// In diesem Fall müssten die Funktionen die Logik selbst tragen\n",
    "let dachOeffnen2 (c:Cabrio2) = \n",
    "    if c.DachOffen then printfn \"Das Dach ist bereits offen!\"\n",
    "    else printfn \"Das Dach ist jetzt offen.\"\n",
    "    c.DachOffen <- true\n",
    "\n",
    "let dachSchliessen2 (c:Cabrio2) = \n",
    "    if c.DachOffen then printfn \"Das Dach ist jetzt zu!\"\n",
    "    else printfn \"Das Dach ist schon zu!\"\n",
    "    c.DachOffen <- false       \n",
    "\n",
    "let neuesCabrio2 = new Cabrio2(\"Audi\",4)"
   ]
  },
  {
   "cell_type": "markdown",
   "metadata": {},
   "source": [
    "# Task 3: Polymorphismus"
   ]
  },
  {
   "cell_type": "markdown",
   "metadata": {},
   "source": [
    "\n",
    "## Task 3.1\n",
    "\n",
    "Wir wollen hier Personen implementieren, die ihren Namen sagen können. In Japan wird auch im alltäglichen Leben normalerweise der Familienname vor dem Eigennamen genannt. \n",
    "So ist Yoko Ono in Japan als Ono Yoko bekannt. Um diesen Unterschied programmatisch darzustellen, wurde der Code folgendermassen geschrieben:\n",
    "\n",
    "Ordne die folgenden Begriffen den zugehörigen Codebausteinen zu: `Klassendeklaration`, `Objektinstanziierung`, `Interfacedeklaration`\n",
    "\n",
    "\n"
   ]
  },
  {
   "cell_type": "code",
   "execution_count": 50,
   "metadata": {
    "dotnet_interactive": {
     "language": "fsharp"
    }
   },
   "outputs": [],
   "source": [
    "// Bezeichnung: Interfacedeklaration\n",
    "type IPerson =\n",
    "    abstract FamilienName   : string\n",
    "    abstract EigenName      : string\n",
    "    abstract NamenSagen     : unit -> string\n",
    "\n",
    "// Bezeichnung: Klassendeklaration\n",
    "type Japaner (fn, en) =\n",
    "    let familienName = fn\n",
    "    let eigenName = en\n",
    "    interface IPerson with\n",
    "        member self.FamilienName = familienName\n",
    "        member self.EigenName = eigenName\n",
    "        member self.NamenSagen () = familienName + \" \" + eigenName\n",
    "\n",
    "// Bezeichnung: Klassendeklaration\n",
    "type Deutscher (fn, en) =\n",
    "    let familienName = fn\n",
    "    let eigenName = en\n",
    "    interface IPerson with\n",
    "        member self.FamilienName = familienName\n",
    "        member self.EigenName = eigenName\n",
    "        member self.NamenSagen () = eigenName + \" \" + familienName\n",
    "\n",
    "// Bezeichnung: Objektinstanziierung\n",
    "let yokoOno = Japaner(\"Ono\",\"Yoko\")\n",
    "\n",
    "// Bezeichnung: Objektinstanziierung\n",
    "let angeloMerte = Deutscher(\"Merte\",\"Angelo\")\n"
   ]
  },
  {
   "cell_type": "markdown",
   "metadata": {},
   "source": [
    "## Task 3.2\n",
    "\n",
    "Greife auf die Methode `NamenSagen` der beiden Personen zu. \n",
    "\n",
    "Tipp: Verwende den korrekten `casting Operator`\n",
    "\n"
   ]
  },
  {
   "cell_type": "code",
   "execution_count": 51,
   "metadata": {
    "dotnet_interactive": {
     "language": "fsharp"
    }
   },
   "outputs": [
    {
     "data": {
      "text/plain": [
       "Ono Yoko"
      ]
     },
     "metadata": {},
     "output_type": "display_data"
    }
   ],
   "source": [
    "let say = yokoOno :> IPerson\n",
    "say.NamenSagen()\n",
    "\n",
    "// Variante2\n",
    "(angeloMerte :> IPerson).NamenSagen()\n",
    "\n",
    "// Variante3\n",
    "let namenSagen (p : #IPerson) =\n",
    "    p.NamenSagen()\n",
    "\n",
    "namenSagen yokoOno\n",
    "\n"
   ]
  },
  {
   "cell_type": "markdown",
   "metadata": {},
   "source": [
    "## Task 3.3\n",
    "\n",
    "Erkläre kurz in eigenen Worten, warum in diesem Beispiel Polymorphismus verwendet wurde und nicht Vererbung.\n",
    "\n"
   ]
  },
  {
   "cell_type": "code",
   "execution_count": 52,
   "metadata": {
    "dotnet_interactive": {
     "language": "fsharp"
    }
   },
   "outputs": [],
   "source": [
    "// In diesem Fall sollen alle Personen die gleiche Methode `NamenSagen` besitzen. Was genau in der Methode passiert soll aber je nach Nationalität unterschiedlich sein.\n",
    "// Bei Vererbung würde das Verhalten der Methode einmal definiert werden und alle erbenden Personen würde den Namen auf die gleich Weise sagen.\n",
    "// Polymorphismus erlaubt es, dass das konkrete Verhalten sich für die gleich benutzbare Methode zwischen den Leuten unterscheidet.\n",
    "\n"
   ]
  },
  {
   "cell_type": "markdown",
   "metadata": {},
   "source": [
    "## Task 3.4\n",
    "\n",
    "Im fernen Land DingDing wird wie auch in Deutschland erst der Eigenname und dann der Familienname genannt. Beide werden jedoch revertiert. (Angela Merkel -> alegnA lekreM)\n",
    "\n",
    "Deklariere die Klasse `DingDinger`, die das Interface `IPerson` implementiert.\n",
    "\n",
    "Tipp: Verwende die gegebene string-revertier Funktion\n",
    "\n",
    "\n"
   ]
  },
  {
   "cell_type": "code",
   "execution_count": 53,
   "metadata": {
    "dotnet_interactive": {
     "language": "fsharp"
    }
   },
   "outputs": [],
   "source": [
    "let revert (s:string) = System.String(s.ToCharArray() |> Array.rev)\n"
   ]
  },
  {
   "cell_type": "code",
   "execution_count": 54,
   "metadata": {
    "dotnet_interactive": {
     "language": "fsharp"
    },
    "polyglot_notebook": {
     "kernelName": "fsharp"
    }
   },
   "outputs": [
    {
     "data": {
      "text/plain": [
       "milbmA milbmaK"
      ]
     },
     "metadata": {},
     "output_type": "display_data"
    }
   ],
   "source": [
    "type DingDinger (fn, en) =\n",
    "    let familienName = fn\n",
    "    let eigenName = en \n",
    "    interface IPerson with\n",
    "        member self.FamilienName = familienName\n",
    "        member self.EigenName = eigenName\n",
    "        member self.NamenSagen () = revert eigenName + \" \" + revert familienName\n",
    "\n",
    "let amblimKamblim = DingDinger(\"Kamblim\", \"Amblim\")\n",
    "(amblimKamblim :> IPerson).NamenSagen()"
   ]
  }
 ],
 "metadata": {
  "kernelspec": {
   "display_name": ".NET (F#)",
   "language": "F#",
   "name": ".net-fsharp"
  },
  "langauge_info": {
   "file_extension": ".fs",
   "mimetype": "text/x-fsharp",
   "name": "C#",
   "pygments_lexer": "fsharp",
   "version": "4.5"
  },
  "language_info": {
   "name": "polyglot-notebook"
  },
  "polyglot_notebook": {
   "kernelInfo": {
    "defaultKernelName": "fsharp",
    "items": [
     {
      "aliases": [],
      "name": "fsharp"
     }
    ]
   }
  }
 },
 "nbformat": 4,
 "nbformat_minor": 1
}
