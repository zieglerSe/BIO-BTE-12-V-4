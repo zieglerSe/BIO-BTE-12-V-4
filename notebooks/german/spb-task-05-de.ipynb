{
 "cells": [
  {
   "cell_type": "markdown",
   "metadata": {},
   "source": [
    "# SPB V - Programmieren mit Objekten\n",
    "---\n",
    "In dieser Übung lernst du die Benutzung von veränderlichen Werten, und wie du sie in Funktionen und Objekten kapseln kannst. Du lernst außerdem, wie man Klassen und Objekte erstellt, und den Unterschied zwischen Vererbung und Polymorphismen."
   ]
  },
  {
   "cell_type": "markdown",
   "metadata": {},
   "source": [
    "# Task 1: Veränderliche Werte\n",
    "\n",
    "Erstellen und Verändern von veränderlichen Werten\n",
    "\n",
    "Tipp: \n",
    "\n",
    "- Benutzt das `mutable` keyword\n",
    "- Zur Veränderung der Werte wird der `<-` Operator verwendet"
   ]
  },
  {
   "cell_type": "markdown",
   "metadata": {},
   "source": [
    "## Task 1.1\n",
    "\n",
    "Erstelle einen veränderlichen Integer mit dem Wert 10 und binde ihn an den Namen x\n"
   ]
  },
  {
   "cell_type": "code",
   "execution_count": null,
   "metadata": {
    "dotnet_interactive": {
     "language": "fsharp"
    }
   },
   "outputs": [],
   "source": [
    "\n"
   ]
  },
  {
   "cell_type": "markdown",
   "metadata": {},
   "source": [
    "## Task 1.2\n",
    "\n",
    "Verändere den Wert der an x gebunden ist indem ihr den Wert den x trägt mit 2 multipliziert \n",
    "\n"
   ]
  },
  {
   "cell_type": "code",
   "execution_count": null,
   "metadata": {
    "dotnet_interactive": {
     "language": "fsharp"
    }
   },
   "outputs": [],
   "source": [
    "\n"
   ]
  },
  {
   "cell_type": "markdown",
   "metadata": {},
   "source": [
    "## Task 1.3\n",
    "\n",
    "Erstelle einen Record Type `Mensch` mit \n",
    "\n",
    "- dem unveränderlichen Feld `Name` vom Typ string\n",
    "- und dem veränderlichen Feld `Alter` vom Typ int\n",
    "\n"
   ]
  },
  {
   "cell_type": "code",
   "execution_count": null,
   "metadata": {
    "dotnet_interactive": {
     "language": "fsharp"
    }
   },
   "outputs": [],
   "source": [
    "\n"
   ]
  },
  {
   "cell_type": "markdown",
   "metadata": {},
   "source": [
    "## Task 1.4\n",
    "\n",
    "Erstelle die Funktion `geburtstagFeiern` die als Parameter einen Wert des Typen `Mensch` erhält und das Alter des Menschen um eins erhöht\n",
    "\n"
   ]
  },
  {
   "cell_type": "code",
   "execution_count": null,
   "metadata": {
    "dotnet_interactive": {
     "language": "fsharp"
    }
   },
   "outputs": [],
   "source": [
    "\n"
   ]
  },
  {
   "cell_type": "markdown",
   "metadata": {},
   "source": [
    "## Task 1.5\n",
    "\n",
    "Erstelle einen Menschen, binde ihn an einen Namen und lass diesen erstellten Menschen mit der Funktion `geburtstagFeiern` altern.\n",
    "\n"
   ]
  },
  {
   "cell_type": "code",
   "execution_count": null,
   "metadata": {
    "dotnet_interactive": {
     "language": "fsharp"
    }
   },
   "outputs": [],
   "source": [
    "\n"
   ]
  },
  {
   "cell_type": "markdown",
   "metadata": {},
   "source": [
    "## Task 1.6: Veränderliche Werte in Funktionen (Bonusaufgabe) \n",
    "\n",
    "Erstelle eine eigene Version der `List.max` Funktion. Diese Funktion soll ein Liste von ints erhalten und den höchsten der ints zurückgeben.\n",
    "\n",
    "Signatur: `int list -> int`\n",
    "\n",
    "Dabei soll der aktuell größte int ein `veränderlicher Wert` sein und es soll eine `for-Schleife` verwendet werden.\n",
    "\n",
    "\n"
   ]
  },
  {
   "cell_type": "code",
   "execution_count": null,
   "metadata": {
    "dotnet_interactive": {
     "language": "fsharp"
    }
   },
   "outputs": [],
   "source": [
    "\n"
   ]
  },
  {
   "cell_type": "markdown",
   "metadata": {},
   "source": [
    "# Task 2: Klassen und Objekte"
   ]
  },
  {
   "cell_type": "markdown",
   "metadata": {},
   "source": [
    "## Task 2.1: Grundlagen"
   ]
  },
  {
   "cell_type": "markdown",
   "metadata": {},
   "source": [
    "\n",
    "### Subtask 2.1.1\n",
    "\n",
    "Im folgenden wird die Klasse `Fahrzeug` erstellt. Versuche nachzuvollziehen, was passiert und kommentiere jede Zeile kurz\n",
    "\n",
    "Keywortfundgrube: Methode, Feld, Konstruktor, Parameter, alternativ, binden\n",
    "\n",
    "\n"
   ]
  },
  {
   "cell_type": "code",
   "execution_count": null,
   "metadata": {
    "dotnet_interactive": {
     "language": "fsharp"
    }
   },
   "outputs": [],
   "source": [
    "// Kommentar:\n",
    "type Fahrzeug (hersteller:string) =\n",
    "    // Kommentar:\n",
    "    member self.Hersteller = hersteller\n",
    "    // Kommentar:\n",
    "    member self.Fahren() = printfn \"%s macht brumm brumm\" self.Hersteller\n",
    "    // Kommentar:\n",
    "    new() = Fahrzeug(\"Smart\")\n"
   ]
  },
  {
   "cell_type": "markdown",
   "metadata": {},
   "source": [
    "### Subtask 2.1.2\n",
    "\n",
    "Instanziiere 2 Objekte des Typs `Fahrzeug`. Verwende einmal den den Haupt- und einmal den alternativen Konstruktor\n",
    "\n"
   ]
  },
  {
   "cell_type": "code",
   "execution_count": null,
   "metadata": {
    "dotnet_interactive": {
     "language": "fsharp"
    }
   },
   "outputs": [],
   "source": [
    "\n"
   ]
  },
  {
   "cell_type": "markdown",
   "metadata": {},
   "source": [
    "## Task 2.2: Vererbung\n"
   ]
  },
  {
   "cell_type": "markdown",
   "metadata": {},
   "source": [
    "### Subtask 2.2.1\n",
    "\n",
    "Hier ist ein Beispiel für die Vererbung eines Typen, namentlich der Typ `Motorrad` der vom Typ `Fahrzeug` erbt. \n",
    "\n",
    "Erstelle analog einen Typen `Auto`, der auch vom Typ `Fahrzeug` erben soll. Dieser Typ soll aber zusätzlich das Feld `AnzahlTueren` enthalten. \n",
    "Wähle hierzu einen passenden primitiven Typen und passe auch den Konstruktor an, sodass diese Anzahl der Türen auch beim Instanziieren gesetzt werden kann.\n",
    "\n"
   ]
  },
  {
   "cell_type": "code",
   "execution_count": null,
   "metadata": {
    "dotnet_interactive": {
     "language": "fsharp"
    }
   },
   "outputs": [],
   "source": [
    "type Motorrad (hersteller:string) =\n",
    "\n",
    "    inherit Fahrzeug(hersteller)\n",
    "\n",
    "    new() = Motorrad(\"Harley Davidson\")\n"
   ]
  },
  {
   "cell_type": "markdown",
   "metadata": {},
   "source": [
    "### Subtask 2.2.2\n",
    "\n",
    "Erstelle eine Funktion, welche einen Parameter des Typs `Fahrzeug` enthält und die Methode `Fahren` dieses Fahrzeuges ausführt.\n",
    "\n"
   ]
  },
  {
   "cell_type": "code",
   "execution_count": null,
   "metadata": {
    "dotnet_interactive": {
     "language": "fsharp"
    }
   },
   "outputs": [],
   "source": [
    "\n"
   ]
  },
  {
   "cell_type": "markdown",
   "metadata": {},
   "source": [
    "### Subtask 2.2.3\n",
    "\n",
    "Erstelle ein `Auto` und binde es an einen Namen. Dann wende die oben definierte Funktion zum `Fahren` darauf an."
   ]
  },
  {
   "cell_type": "code",
   "execution_count": null,
   "metadata": {
    "dotnet_interactive": {
     "language": "fsharp"
    }
   },
   "outputs": [],
   "source": []
  },
  {
   "cell_type": "markdown",
   "metadata": {},
   "source": [
    "## Task 2.3 Veränderliche Werte in Objekten (Bonusaufgabe)\n",
    "\n",
    "Deklariere eine Klasse `Cabrio` die vom Typ `Fahrzeug` erbt. \n",
    "\n",
    "Diese Klasse soll ein Feld `DachOffen` vom Typ `bool` haben und zusätzlich Methoden, mit denen man das Dach öffnen und schließen kann"
   ]
  },
  {
   "cell_type": "code",
   "execution_count": null,
   "metadata": {
    "dotnet_interactive": {
     "language": "fsharp"
    }
   },
   "outputs": [],
   "source": []
  },
  {
   "cell_type": "markdown",
   "metadata": {},
   "source": [
    "# Task 3: Polymorphismus"
   ]
  },
  {
   "cell_type": "markdown",
   "metadata": {},
   "source": [
    "\n",
    "## Task 3.1\n",
    "\n",
    "Wir wollen hier Personen implementieren, die ihren Namen sagen können. In Japan wird auch im alltäglichen Leben normalerweise der Familienname vor dem Eigennamen genannt. \n",
    "So ist Yoko Ono in Japan als Ono Yoko bekannt. Um diesen Unterschied programmatisch darzustellen, wurde der Code folgendermassen geschrieben:\n",
    "\n",
    "Ordne die folgenden Begriffen den zugehörigen Codebausteinen zu: `Klassendeklaration`, `Objektinstanziierung`, `Interfacedeklaration`\n",
    "\n",
    "\n"
   ]
  },
  {
   "cell_type": "code",
   "execution_count": null,
   "metadata": {
    "dotnet_interactive": {
     "language": "fsharp"
    }
   },
   "outputs": [],
   "source": [
    "// Bezeichnung:\n",
    "type IPerson =\n",
    "    abstract FamilienName   : string\n",
    "    abstract EigenName      : string\n",
    "    abstract NamenSagen     : unit -> string\n",
    "\n",
    "// Bezeichnung:\n",
    "type Japaner (fn, en) =\n",
    "    let familienName = fn\n",
    "    let eigenName = en\n",
    "    interface IPerson with\n",
    "        member self.FamilienName = familienName\n",
    "        member self.EigenName = eigenName\n",
    "        member self.NamenSagen () = familienName + \" \" + eigenName\n",
    "\n",
    "// Bezeichnung:\n",
    "type Deutscher (fn, en) =\n",
    "    let familienName = fn\n",
    "    let eigenName = en\n",
    "    interface IPerson with\n",
    "        member self.FamilienName = familienName\n",
    "        member self.EigenName = eigenName\n",
    "        member self.NamenSagen () = eigenName + \" \" + familienName\n",
    "\n",
    "// Bezeichnung:\n",
    "let yokoOno = Japaner(\"Ono\",\"Yoko\")\n",
    "\n",
    "// Bezeichnung:\n",
    "let angeloMerte = Deutscher(\"Merte\",\"Angelo\")\n"
   ]
  },
  {
   "cell_type": "markdown",
   "metadata": {},
   "source": [
    "## Task 3.2\n",
    "\n",
    "Greife auf die Methode `NamenSagen` der beiden Personen zu. \n",
    "\n",
    "Tipp: Verwende den korrekten `casting Operator`\n",
    "\n"
   ]
  },
  {
   "cell_type": "code",
   "execution_count": null,
   "metadata": {
    "dotnet_interactive": {
     "language": "fsharp"
    }
   },
   "outputs": [],
   "source": [
    "\n"
   ]
  },
  {
   "cell_type": "markdown",
   "metadata": {},
   "source": [
    "## Task 3.3\n",
    "\n",
    "Erkläre kurz in eigenen Worten, warum in diesem Beispiel Polymorphismus verwendet wurde und nicht Vererbung.\n",
    "\n"
   ]
  },
  {
   "cell_type": "code",
   "execution_count": null,
   "metadata": {
    "dotnet_interactive": {
     "language": "fsharp"
    }
   },
   "outputs": [],
   "source": [
    "\n"
   ]
  },
  {
   "cell_type": "markdown",
   "metadata": {},
   "source": [
    "## Task 3.4\n",
    "\n",
    "Im fernen Land DingDing wird wie auch in Deutschland erst der Eigenname und dann der Familienname genannt. Beide werden jedoch revertiert. (Angela Merkel -> alegnA lekreM)\n",
    "\n",
    "Deklariere die Klasse `DingDinger`, die das Interface `IPerson` implementiert.\n",
    "\n",
    "Tipp: Verwende die gegebene string-revertier Funktion\n",
    "\n",
    "\n"
   ]
  },
  {
   "cell_type": "code",
   "execution_count": null,
   "metadata": {
    "dotnet_interactive": {
     "language": "fsharp"
    }
   },
   "outputs": [],
   "source": [
    "let revert (s:string) = System.String(s.ToCharArray() |> Array.rev)\n"
   ]
  }
 ],
 "metadata": {
  "kernelspec": {
   "display_name": ".NET (F#)",
   "language": "F#",
   "name": ".net-fsharp"
  },
  "langauge_info": {
   "file_extension": ".fs",
   "mimetype": "text/x-fsharp",
   "name": "C#",
   "pygments_lexer": "fsharp",
   "version": "4.5"
  },
  "language_info": {
   "name": "polyglot-notebook"
  },
  "polyglot_notebook": {
   "kernelInfo": {
    "defaultKernelName": "fsharp",
    "items": [
     {
      "aliases": [],
      "name": "fsharp"
     }
    ]
   }
  }
 },
 "nbformat": 4,
 "nbformat_minor": 1
}
