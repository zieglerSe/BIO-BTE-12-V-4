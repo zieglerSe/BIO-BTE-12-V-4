{
 "cells": [
  {
   "cell_type": "markdown",
   "metadata": {},
   "source": [
    "# SPB IV - Programmieren mit Funktionen\n",
    "---\n",
    "In dieser Uebung erfahren Sie was Funktionen höherer Ordnung sind und wie sie diese mithilfe des pipe Operators verwenden können. Außerdem werden die Grundlagen der Funktionssignatur wiederholt und das Konzept von 'Funktionen als Parameter' erklärt. Abschließend sollen Funktionen aus einem Collection-Modul mit Hilfe von Funktionen höherer Ordnung auf Collections angewendet werden.\n"
   ]
  },
  {
   "cell_type": "markdown",
   "metadata": {},
   "source": [
    "# Task 1: Funktionen höherer Ordnung\n"
   ]
  },
  {
   "cell_type": "markdown",
   "metadata": {},
   "source": [
    "## Task 1.1:\n",
    "\n",
    "Schreibe folgende Funktion mit Hilfe des Pipe-Operators `|>` und den angegebenen Funktionen.\n",
    "\n",
    "Tipp: \n",
    "\n",
    "  - Der Pipeoperator setzt den Parameter links vom Operator ans Ende der rechten Seite: \n",
    "\n",
    "  - `a |> add b` ist gleichbedeutend mit `add b a`"
   ]
  },
  {
   "cell_type": "code",
   "execution_count": null,
   "metadata": {
    "dotnet_interactive": {
     "language": "fsharp"
    }
   },
   "outputs": [],
   "source": [
    "let mathNotation x y = (((x + 2.) + 3. * 2.) ** y) * 0.5\n",
    "\n",
    "let add (a:float) b = a + b\n",
    "let square (x :float) = x * x\n",
    "let multiply (a:float) b = a * b\n",
    "\n",
    "let pipeNotation x y =\n",
    "    1. //ersetzt mich\n",
    "\n",
    "// Test ob beide notationen das gleiche Ergebnis erzeugen\n",
    "pipeNotation 1. 7. = mathNotation 1. 7.\n"
   ]
  },
  {
   "cell_type": "markdown",
   "metadata": {},
   "source": [
    "## Task 1.2\n",
    "\n",
    "Deklariere eine beliebige Funktion mit der Signatur `float -> float -> float`. Achte darauf, dass alle Parameter im Funktionskörper verwendet werden.\n",
    "\n",
    "Ist dies eine Funktion erster Ordnung oder eine Funktion höherer Ordnung?\n",
    "\n",
    "\n"
   ]
  },
  {
   "cell_type": "code",
   "execution_count": null,
   "metadata": {
    "dotnet_interactive": {
     "language": "fsharp"
    }
   },
   "outputs": [],
   "source": [
    "\n",
    "(*\n",
    "[] Funktion erster Ordnung\n",
    "[] Funktion höherer Ordnung\n",
    "*)"
   ]
  },
  {
   "cell_type": "markdown",
   "metadata": {},
   "source": [
    "## Task 1.3\n",
    "\n",
    "Deklariere eine beliebige Funktion mit der Signatur `(float -> float -> float) -> float -> float -> int`. Achte darauf, dass alle Parameter verwendet werden.\n",
    "\n",
    "Ist dies eine Funktion erster Ordnung oder eine Funktion höherer Ordnung?\n",
    "\n",
    "\n"
   ]
  },
  {
   "cell_type": "code",
   "execution_count": null,
   "metadata": {
    "dotnet_interactive": {
     "language": "fsharp"
    }
   },
   "outputs": [],
   "source": [
    "\n",
    "(*\n",
    "[] Funktion erster Ordnung\n",
    "[] Funktion höherer Ordnung\n",
    "*)"
   ]
  },
  {
   "cell_type": "markdown",
   "metadata": {},
   "source": [
    "## Task 1.4\n",
    "\n",
    "Rufe die in `1.3` erstellte Funktion auf. Nutze als Parameter zwei beliebige Werte sowie die Funktion aus `1.2`.\n",
    "\n",
    "\n"
   ]
  },
  {
   "cell_type": "code",
   "execution_count": null,
   "metadata": {
    "dotnet_interactive": {
     "language": "fsharp"
    }
   },
   "outputs": [],
   "source": [
    "\n"
   ]
  },
  {
   "cell_type": "markdown",
   "metadata": {},
   "source": [
    "# Task 2: Programmieren mit Funktionen"
   ]
  },
  {
   "cell_type": "markdown",
   "metadata": {},
   "source": [
    "\n",
    "## Task 2.1.1\n",
    "\n",
    "Unten siehst du einen record type mit dem Namen `Dog`. \n",
    "Erstelle zwei beliebige Werte des Typs `Dog` und binde sie an beliebige Namen.\n",
    "Schaut euch `Uebung 02` an, falls es hier Schwierigkeiten geben sollte."
   ]
  },
  {
   "cell_type": "code",
   "execution_count": null,
   "metadata": {
    "dotnet_interactive": {
     "language": "fsharp"
    }
   },
   "outputs": [],
   "source": [
    "type Dog = {\n",
    "    Name    : string\n",
    "    Height  : float\n",
    "    Origin  : string\n",
    "    Age     : int}\n"
   ]
  },
  {
   "cell_type": "markdown",
   "metadata": {},
   "source": [
    "## Task 2.1.2\n",
    "\n",
    "Deklariere eine Funktion mit dem Namen `getHeight`, die als Parameter einen `Dog` erhält und dessen Höhe zurück gibt. \n",
    "\n",
    "\n"
   ]
  },
  {
   "cell_type": "code",
   "execution_count": null,
   "metadata": {
    "dotnet_interactive": {
     "language": "fsharp"
    }
   },
   "outputs": [],
   "source": [
    "\n"
   ]
  },
  {
   "cell_type": "markdown",
   "metadata": {},
   "source": [
    "## Task 2.1.3\n",
    "\n",
    "Du kannst keine mathematischen Standard-Operatoren auf record typen anwenden. \n",
    "Deklariere eine Funktion mit dem Namen `applyToAge`, die zwei Parameter vom Typ `Dog` (d1 und d2) und einen Parameter vom Typ `(int -> int -> float)` (f) erhält. \n",
    "Im Funktionskörper soll die Funktion f auf das Alter der beiden Hunde d1 und d2 angewendet werden.\n",
    "\n",
    "Tipp: Definiere die Typen der Parameter. \n",
    "\n",
    "\n"
   ]
  },
  {
   "cell_type": "code",
   "execution_count": null,
   "metadata": {
    "dotnet_interactive": {
     "language": "fsharp"
    }
   },
   "outputs": [],
   "source": [
    "\n"
   ]
  },
  {
   "cell_type": "markdown",
   "metadata": {},
   "source": [
    "## Task 2.1.4\n",
    "\n",
    "Wende die Funktion `applyToAge` mit den zuvor erstellten `Dogs` und der Funktion `averageOfTwo` an.  \n",
    "\n",
    "\n"
   ]
  },
  {
   "cell_type": "code",
   "execution_count": null,
   "metadata": {
    "dotnet_interactive": {
     "language": "fsharp"
    }
   },
   "outputs": [],
   "source": [
    "let averageOfTwo (a:int) b =\n",
    "    (float a + float b) / 2.\n"
   ]
  },
  {
   "cell_type": "markdown",
   "metadata": {},
   "source": [
    "## Task 2.2.1\n",
    "\n",
    "Erstelle ein `float array` mit den Werten von 100. bis 200. und binde es an den Namen `nArray`.\n",
    "\n",
    "\n"
   ]
  },
  {
   "cell_type": "code",
   "execution_count": null,
   "metadata": {
    "dotnet_interactive": {
     "language": "fsharp"
    }
   },
   "outputs": [],
   "source": [
    "\n"
   ]
  },
  {
   "cell_type": "markdown",
   "metadata": {},
   "source": [
    "## Task 2.2.2\n",
    "\n",
    "Mit map-Funktionen kann man eine Funktion, die auf einzelnen Elementen angewendet werden kann auf alle Elemente einer Kollektion anwenden.\n",
    "Parameter der `map`-Funktion:\n",
    "\n",
    "  1. `doSomethingWithX`:  Funktion, die auf jedes Element angewendet werden soll\n",
    "\n",
    "  2. `array`:              Array der Elemente, auf die `doSomeThingWithX` angewendet werden soll\n",
    "\n",
    "Die `Array.map` Funktion wird dann folgendermaßen angewendet:\n",
    "\n",
    "  - `Array.map (fun arrayElement -> doSomethingWithX arrayElement) array`\n",
    "\n",
    "Wende auf jedes Element von `nArray` die Funktion `square` (Task 1.1) an. Binde das Ergebnis an den Namen `nArraySquared`.\n",
    "\n",
    "\n"
   ]
  },
  {
   "cell_type": "code",
   "execution_count": null,
   "metadata": {
    "dotnet_interactive": {
     "language": "fsharp"
    }
   },
   "outputs": [],
   "source": [
    "\n"
   ]
  },
  {
   "cell_type": "markdown",
   "metadata": {},
   "source": [
    "## Task 2.2.3\n",
    "\n",
    "Berechne die Summe der Werte aus `nArray`. \n",
    "\n",
    "\n"
   ]
  },
  {
   "cell_type": "code",
   "execution_count": null,
   "metadata": {
    "dotnet_interactive": {
     "language": "fsharp"
    }
   },
   "outputs": [],
   "source": [
    "\n"
   ]
  },
  {
   "cell_type": "markdown",
   "metadata": {},
   "source": [
    "## Task 2.2.4\n",
    "\n",
    "Filtere alle Arrayelemente, die durch 10 teilbar sind.\n",
    "\n",
    "Tipp1: Nutze `Array.filter` und die angegebene Funktion.\n",
    "\n",
    "\n"
   ]
  },
  {
   "cell_type": "code",
   "execution_count": null,
   "metadata": {
    "dotnet_interactive": {
     "language": "fsharp"
    }
   },
   "outputs": [],
   "source": [
    "let isDivisibleWithoutRemainder denumerator numerator =\n",
    "    numerator % denumerator = 0.\n"
   ]
  },
  {
   "cell_type": "markdown",
   "metadata": {},
   "source": [
    "## Task 2.2.5\n",
    "\n",
    "Berechne die Summe der Quadrate der einzelnen Werte aus `nArray`.\n",
    "Versuche dieses in einem Schritt mit `Array.fold` zu erreichen.\n",
    "\n",
    "\n"
   ]
  },
  {
   "cell_type": "code",
   "execution_count": null,
   "metadata": {
    "dotnet_interactive": {
     "language": "fsharp"
    }
   },
   "outputs": [],
   "source": [
    "\n"
   ]
  },
  {
   "cell_type": "markdown",
   "metadata": {},
   "source": [
    "## Task 2.3"
   ]
  },
  {
   "cell_type": "code",
   "execution_count": null,
   "metadata": {
    "dotnet_interactive": {
     "language": "fsharp"
    },
    "polyglot_notebook": {
     "kernelName": "fsharp"
    }
   },
   "outputs": [],
   "source": [
    "// Dies ist ein Zufallsgenerator. \n",
    "// Mit randomNumberGenerator.NextDouble() kann nun ein zufälliger float zwischen 0. und 1. erstellt werden.\n",
    "// Mit randomNumberGenerator.Next(x) kann nun ein zufälliger int zwischen 0 und x-1 erstellt werden.\n",
    "let randomNumberGenerator = System.Random()\n",
    "\n",
    "// Nachfolgend ist eine Funktion dargestellt, die einen Wert vom Typ Dog erstellt.\n",
    "let createRandomDog (i :int) = \n",
    "    let name   = \"Dog \" + string i \n",
    "    let age    = randomNumberGenerator.Next(16)\n",
    "    let height = 15. + 60. * randomNumberGenerator.NextDouble()\n",
    "    let origin  = \n",
    "        let origins = [\"Bayern\";\"Saarland\";\"Rheinland-Pfalz\";\"Hessen\"]\n",
    "        origins.[i%4]\n",
    "    {\n",
    "    Name    = name\n",
    "    Height  = height\n",
    "    Origin   = origin   \n",
    "    Age     = age\n",
    "    }\n",
    "\n",
    "let dogList = [for i=1 to 60 do yield createRandomDog i]"
   ]
  },
  {
   "cell_type": "markdown",
   "metadata": {},
   "source": [
    "## Task 2.3.1\n",
    "\n",
    "Extrahiere alle Höhen aus `dogList` und binde sie an den Namen `dogHeights`.\n",
    "\n",
    "Tipp: Durchsuche das `List`-Modul nach einer passenden Funktion.\n",
    "\n",
    "\n"
   ]
  },
  {
   "cell_type": "code",
   "execution_count": null,
   "metadata": {
    "dotnet_interactive": {
     "language": "fsharp"
    }
   },
   "outputs": [],
   "source": [
    "\n"
   ]
  },
  {
   "cell_type": "markdown",
   "metadata": {},
   "source": [
    "## Task 2.3.2\n",
    "\n",
    "Berechne die Durchschnittshöhe der Hunde aus `dogList`. \n",
    "\n",
    "Tipp: Die Aufgabe kann entweder durch die Nutzung von Funktionen aus dem `List`-Modul gelöst werden, oder man löst sie durch eine einzige `fold` Funktion (für Experten)."
   ]
  },
  {
   "cell_type": "code",
   "execution_count": null,
   "metadata": {
    "dotnet_interactive": {
     "language": "fsharp"
    }
   },
   "outputs": [],
   "source": []
  },
  {
   "cell_type": "markdown",
   "metadata": {},
   "source": [
    "## Task 2.3.3 (Bonus)\n",
    "\n",
    "In den Tasks 2.2 und 2.3 wurde jeweils mit Arrays und Listen gearbeitet. Beschreibe kurz 2 Unterschiede zwischen den beiden Kollektiontypen."
   ]
  },
  {
   "cell_type": "markdown",
   "metadata": {},
   "source": []
  }
 ],
 "metadata": {
  "kernelspec": {
   "display_name": ".NET (F#)",
   "language": "F#",
   "name": ".net-fsharp"
  },
  "langauge_info": {
   "file_extension": ".fs",
   "mimetype": "text/x-fsharp",
   "name": "C#",
   "pygments_lexer": "fsharp",
   "version": "4.5"
  },
  "language_info": {
   "name": "polyglot-notebook"
  },
  "polyglot_notebook": {
   "kernelInfo": {
    "defaultKernelName": "fsharp",
    "items": [
     {
      "aliases": [],
      "name": "fsharp"
     }
    ]
   }
  }
 },
 "nbformat": 4,
 "nbformat_minor": 1
}
