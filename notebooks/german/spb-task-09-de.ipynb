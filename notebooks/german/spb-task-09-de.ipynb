{
 "cells": [
  {
   "cell_type": "markdown",
   "metadata": {},
   "source": [
    "# SPB IX - Datenzugriff\n",
    "\n",
    "--- \n",
    "\n",
    "In dieser Übung erhälst du einen Einblick in die Betrachtung und Manipulation tabellarischer Daten mittels eines `Data frames`. Hierfür werden zunächst die Grundbausteine dieser Frames, die sogenannten `Series` betrachtet und diese dann zu einem Frame zusammengefügt. \n",
    "\n",
    "### Folgende Dokumentationen können für die Bearbeitung der Aufgaben hilfreich sein:\n",
    "\n",
    "* Deedle: https://fslab.org/Deedle"
   ]
  },
  {
   "cell_type": "markdown",
   "metadata": {},
   "source": [
    "\n",
    "### Referenzieren der nötigen packages\n",
    "\n",
    "Diese Zelle muss immer mindestens einmal ausgeführt werden, sonst können die Softwarepakete nicht verwendet werden:"
   ]
  },
  {
   "cell_type": "code",
   "execution_count": null,
   "metadata": {
    "dotnet_interactive": {
     "language": "fsharp"
    }
   },
   "outputs": [],
   "source": [
    "#r \"nuget: Deedle, 3.0.0-beta.1\"\n",
    "#r \"nuget: Deedle.Interactive, 3.0.0-beta.1\"\n",
    "open Deedle"
   ]
  },
  {
   "cell_type": "markdown",
   "metadata": {},
   "source": [
    "### Arbeiten mit Deedle\n",
    "Sollten Sie diese Fehlermeldung sehen:\n",
    "```\n",
    "9_Data_exploration_using_FSharp.fsx(113,5): error FS0030: Value restriction. The value 'cpw'' has been inferred to have generic type val cpw' : Series<(string * int),'_a>      \n",
    "Either define 'cpw'' as a simple data term, make it a function with explicit arguments or, if you do not intend for it to be generic, add a type annotation.\n",
    "```\n",
    "Dann sollten Sie auf eine explizite Typenanmerkung zurückgreifen.\n",
    "Statt:\n",
    "```\n",
    "let cpw' = persons |> Frame.getCol \"cpw\"\n",
    "```\n",
    "Verwenden Sie:\n",
    "```\n",
    "let cpw' : Series<int,float> = persons |> Frame.getCol \"cpw\"\n"
   ]
  },
  {
   "cell_type": "code",
   "execution_count": null,
   "metadata": {
    "dotnet_interactive": {
     "language": "fsharp"
    }
   },
   "outputs": [],
   "source": [
    "Series.ofValues [\"Kevin\";\"Lukas\";\"Benedikt\";\"Michael\"]"
   ]
  },
  {
   "cell_type": "markdown",
   "metadata": {},
   "source": [
    "# Task 1: Grundlagen"
   ]
  },
  {
   "attachments": {},
   "cell_type": "markdown",
   "metadata": {},
   "source": [
    "## Task 1.1\n",
    "Nutzen Sie die Funktion `Series.mapValues` um die Werte von `\"coffeesPerWeek\"` zu verdreifachen. "
   ]
  },
  {
   "cell_type": "code",
   "execution_count": null,
   "metadata": {
    "dotnet_interactive": {
     "language": "fsharp"
    }
   },
   "outputs": [],
   "source": [
    "let coffeesPerWeek = Series.ofValues [14;16;5;1] "
   ]
  },
  {
   "attachments": {},
   "cell_type": "markdown",
   "metadata": {},
   "source": [
    "## Task 1.2\n",
    "Erstellen Sie auf Basis der 3 gegebenen Series einen Frame mit dem Namen `\"persons\"`. "
   ]
  },
  {
   "cell_type": "code",
   "execution_count": null,
   "metadata": {
    "dotnet_interactive": {
     "language": "fsharp"
    }
   },
   "outputs": [],
   "source": [
    "let firstNames = Series.ofValues [\"Kevin\";\"Lukas\";\"Benedikt\";\"Michael\"] \n",
    "let lastNames  = Series.ofValues [\"Schneider\";\"Weil\";\"Venn\";\"Schroda\"]  \n",
    "let group      = Series.ofValues [\"CSB\";\"CSB\";\"CSB\";\"MBS\"]"
   ]
  },
  {
   "attachments": {},
   "cell_type": "markdown",
   "metadata": {},
   "source": [
    "## Task 1.3\n",
    "Fügen Sie eine von Ihnen erstellte Series mit dem Namen `\"teasPerWeek\"` und die oben definierte `\"coffeesPerWeek\"` als Spalten zu dem Frame hinzu. Binden Sie den resultierenden Frame an einen neuen Namen.\n",
    "Tipp: Erst eine `Series<int,int>` erstellen. Nutzen Sie `Frame.addCol`"
   ]
  },
  {
   "cell_type": "code",
   "execution_count": null,
   "metadata": {
    "dotnet_interactive": {
     "language": "fsharp"
    },
    "polyglot_notebook": {
     "kernelName": "fsharp"
    }
   },
   "outputs": [],
   "source": [
    "// example: \n",
    "// persons ist das Ergebnis aus Task 1.2\n",
    "// persons\n",
    "// |> Frame.addCol \"coffeesPerWeek\" coffeesPerWeek"
   ]
  },
  {
   "cell_type": "markdown",
   "metadata": {},
   "source": [
    "## Task 1.4\n",
    "Addieren Sie die Columns `\"teasPerWeek\"` und `\"coffeesPerWeek\"`. Fügen Sie die resultierende Series als Spalte mit dem Titel `\"completeConsume\"` zu dem zuvor erstellten Frame hinzu.\n",
    "\n",
    "Tipp 1: Diese Task kann auf mehrere Arten und Weisen gelöst werden.\n",
    "\n",
    "Tipp 2: Via `Series.values` können Sie auf die Werte der einzelnen Series zugreifen. Dann könnten Sie mit `Seq.map2` über beide Collections iterieren. "
   ]
  },
  {
   "cell_type": "code",
   "execution_count": null,
   "metadata": {
    "dotnet_interactive": {
     "language": "fsharp"
    }
   },
   "outputs": [],
   "source": []
  },
  {
   "cell_type": "markdown",
   "metadata": {},
   "source": [
    "## Task 1.5\n",
    "Bestimmen Sie die Summe von `\"completeConsume\"`."
   ]
  },
  {
   "cell_type": "code",
   "execution_count": null,
   "metadata": {
    "dotnet_interactive": {
     "language": "fsharp"
    }
   },
   "outputs": [],
   "source": []
  },
  {
   "cell_type": "markdown",
   "metadata": {},
   "source": [
    "# Task 2: Frame Operationen"
   ]
  },
  {
   "attachments": {},
   "cell_type": "markdown",
   "metadata": {},
   "source": [
    "## Task 2.1\n",
    "Gruppieren Sie die Zeilen des Frames aus Task 1.3 nach den Elementen der Spalte `\"group\"`.\n",
    "Tipp: Explizite Typenanmerkung (siehe: [Arbeiten mit Deedle](#Arbeiten-mit-Deedle)) "
   ]
  },
  {
   "cell_type": "code",
   "execution_count": null,
   "metadata": {
    "dotnet_interactive": {
     "language": "fsharp"
    }
   },
   "outputs": [],
   "source": []
  },
  {
   "attachments": {},
   "cell_type": "markdown",
   "metadata": {},
   "source": [
    "## Task 2.2\n",
    "Oft enthalten Ergebnistabellen mehr als 40 Spalten. Für einzelne Analysen sind jedoch nur einige wenige interessant. \n",
    "Es bietet sich daher oft an einen Frame zu erstellen, der weniger Spalten enthält. Nutzen Sie die Funktion `Frame.sliceCols` um auf \n",
    "Basis des Frames aus Task 1.3 einen Frame zu erstellen, der lediglich die Spalten `\"firstNames\"` und `\"teasPerWeek\"` enthält. "
   ]
  },
  {
   "cell_type": "code",
   "execution_count": null,
   "metadata": {
    "dotnet_interactive": {
     "language": "fsharp"
    }
   },
   "outputs": [],
   "source": []
  },
  {
   "attachments": {},
   "cell_type": "markdown",
   "metadata": {},
   "source": [
    "## Task 2.3\n",
    "Oft möchte man auf Basis von Gruppierungen aggregieren. Berechnen Sie die Summe der Spalte `\"teasPerWeek\"` für jede Gruppe.\n",
    "Tipp: Extrahieren Sie die Spalte `\"teasPerWeek\"` aus dem Ergebnis von Task 2.1. Verfahren Sie wie in der Vorlesung demonstriert. "
   ]
  },
  {
   "cell_type": "code",
   "execution_count": null,
   "metadata": {
    "dotnet_interactive": {
     "language": "fsharp"
    }
   },
   "outputs": [],
   "source": []
  },
  {
   "attachments": {},
   "cell_type": "markdown",
   "metadata": {},
   "source": [
    "## Task 2.4\n",
    "Oft möchte man Zwischenergebnisse abspeichern. Speichern Sie den Frame aus Task 1.3 als CSV Datei. Verwenden Sie `';'` als Trennzeichen. "
   ]
  },
  {
   "cell_type": "code",
   "execution_count": null,
   "metadata": {
    "dotnet_interactive": {
     "language": "fsharp"
    }
   },
   "outputs": [],
   "source": []
  },
  {
   "cell_type": "markdown",
   "metadata": {},
   "source": [
    "## Task 2.5\n",
    "Verwenden Sie die Funktion `Frame.ReadCsv` um die Datei erneut einzulesen. "
   ]
  },
  {
   "cell_type": "code",
   "execution_count": null,
   "metadata": {
    "dotnet_interactive": {
     "language": "fsharp"
    }
   },
   "outputs": [],
   "source": []
  }
 ],
 "metadata": {
  "kernelspec": {
   "display_name": ".NET (F#)",
   "language": "F#",
   "name": ".net-fsharp"
  },
  "language_info": {
   "name": "polyglot-notebook"
  },
  "polyglot_notebook": {
   "kernelInfo": {
    "defaultKernelName": "fsharp",
    "items": [
     {
      "aliases": [],
      "name": ".NET"
     },
     {
      "aliases": [
       "C#",
       "c#"
      ],
      "languageName": "C#",
      "name": "csharp"
     },
     {
      "aliases": [
       "F#",
       "f#"
      ],
      "languageName": "F#",
      "name": "fsharp"
     },
     {
      "aliases": [],
      "languageName": "HTML",
      "name": "html"
     },
     {
      "aliases": [
       "js"
      ],
      "languageName": "JavaScript",
      "name": "javascript"
     },
     {
      "aliases": [],
      "languageName": "KQL",
      "name": "kql"
     },
     {
      "aliases": [],
      "languageName": "Mermaid",
      "name": "mermaid"
     },
     {
      "aliases": [
       "powershell"
      ],
      "languageName": "PowerShell",
      "name": "pwsh"
     },
     {
      "aliases": [],
      "languageName": "SQL",
      "name": "sql"
     },
     {
      "aliases": [],
      "name": "value"
     },
     {
      "aliases": [
       "frontend"
      ],
      "name": "vscode"
     },
     {
      "aliases": [],
      "name": "webview"
     }
    ]
   }
  }
 },
 "nbformat": 4,
 "nbformat_minor": 2
}
