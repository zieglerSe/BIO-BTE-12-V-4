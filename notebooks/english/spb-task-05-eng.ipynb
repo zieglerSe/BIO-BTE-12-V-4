{
 "cells": [
  {
   "cell_type": "markdown",
   "metadata": {},
   "source": [
    "# SPB V - Programming with Objects \n",
    "---\n",
    "In this task you'll learn about using mutability and its encapsulation in functions and objects. You will learn about objects and classes and the difference between inheritance and polymorphisms. "
   ]
  },
  {
   "cell_type": "markdown",
   "metadata": {},
   "source": [
    "\n",
    "# Task 1: Mutable values\n",
    "\n",
    "Create and change mutable values\n",
    "\n",
    "Hint: \n",
    "\n",
    "- Use the `mutable` keyword\n",
    "- For changing mutable values, use the `<-` operator "
   ]
  },
  {
   "cell_type": "markdown",
   "metadata": {},
   "source": [
    "\n",
    "\n",
    "## Task 1.1\n",
    "\n",
    "Create a mutable integer of value 10 and bind it to the name x\n"
   ]
  },
  {
   "cell_type": "code",
   "execution_count": 41,
   "metadata": {
    "dotnet_interactive": {
     "language": "fsharp"
    }
   },
   "outputs": [],
   "source": [
    "let mutable x = 10 \n"
   ]
  },
  {
   "cell_type": "markdown",
   "metadata": {},
   "source": [
    "## Task 1.2\n",
    "\n",
    "Change the value which is bound to x to its previous value multiplied by 2\n",
    "\n"
   ]
  },
  {
   "cell_type": "code",
   "execution_count": 42,
   "metadata": {
    "dotnet_interactive": {
     "language": "fsharp"
    }
   },
   "outputs": [],
   "source": [
    "x <- (x * 2)\n"
   ]
  },
  {
   "cell_type": "markdown",
   "metadata": {},
   "source": [
    "## Task 1.3\n",
    "\n",
    "Create a record type `Human` with\n",
    "\n",
    "- the immutable field `Name` of type string\n",
    "- and the mutable field `Age` of type int\n",
    "\n"
   ]
  },
  {
   "cell_type": "code",
   "execution_count": 43,
   "metadata": {
    "dotnet_interactive": {
     "language": "fsharp"
    }
   },
   "outputs": [],
   "source": [
    "type Human = \n",
    "    {\n",
    "        Name: string\n",
    "        mutable Age: int\n",
    "    }\n"
   ]
  },
  {
   "cell_type": "markdown",
   "metadata": {},
   "source": [
    "## Task 1.4\n",
    "\n",
    "Create the the function `celebrateBirthday`, which takes one parameter of type `Human` and increments the `Age` of the human by one.\n",
    "\n"
   ]
  },
  {
   "cell_type": "code",
   "execution_count": 44,
   "metadata": {
    "dotnet_interactive": {
     "language": "fsharp"
    }
   },
   "outputs": [],
   "source": [
    "let celebrateBirthday (human: Human) = \n",
    "    human.Age <- (human.Age + 1)\n"
   ]
  },
  {
   "cell_type": "markdown",
   "metadata": {},
   "source": [
    "## Task 1.5\n",
    "\n",
    "Create a `Human`, bind it to a name and let him age by applying the `celebrateBirthday` function on him.\n",
    "\n"
   ]
  },
  {
   "cell_type": "code",
   "execution_count": 45,
   "metadata": {
    "dotnet_interactive": {
     "language": "fsharp"
    }
   },
   "outputs": [
    {
     "data": {
      "text/html": [
       "<div class=\"dni-plaintext\"><pre>31</pre></div><style>\r\n",
       ".dni-code-hint {\r\n",
       "    font-style: italic;\r\n",
       "    overflow: hidden;\r\n",
       "    white-space: nowrap;\r\n",
       "}\r\n",
       ".dni-treeview {\r\n",
       "    white-space: nowrap;\r\n",
       "}\r\n",
       ".dni-treeview td {\r\n",
       "    vertical-align: top;\r\n",
       "    text-align: start;\r\n",
       "}\r\n",
       "details.dni-treeview {\r\n",
       "    padding-left: 1em;\r\n",
       "}\r\n",
       "table td {\r\n",
       "    text-align: start;\r\n",
       "}\r\n",
       "table tr { \r\n",
       "    vertical-align: top; \r\n",
       "    margin: 0em 0px;\r\n",
       "}\r\n",
       "table tr td pre \r\n",
       "{ \r\n",
       "    vertical-align: top !important; \r\n",
       "    margin: 0em 0px !important;\r\n",
       "} \r\n",
       "table th {\r\n",
       "    text-align: start;\r\n",
       "}\r\n",
       "</style>"
      ]
     },
     "metadata": {},
     "output_type": "display_data"
    }
   ],
   "source": [
    "let human1 = { Name = \"John\"; Age = 30 }\n",
    "celebrateBirthday human1\n",
    "\n",
    "human1.Age\n"
   ]
  },
  {
   "cell_type": "markdown",
   "metadata": {},
   "source": [
    "## Task 1.6: Mutable values in functions (Bonus task) \n",
    "\n",
    "Create your own version of the `List.max` function. This function should take a list of ints as a parameter and return the lowest value of this list.\n",
    "\n",
    "Signature: `int list -> int`\n",
    "\n",
    "In the function, the currently highest int is supposed to be stored as a `mutable value` and you should use a `for-loop`.\n",
    "\n",
    "\n"
   ]
  },
  {
   "cell_type": "code",
   "execution_count": 46,
   "metadata": {
    "dotnet_interactive": {
     "language": "fsharp"
    }
   },
   "outputs": [],
   "source": [
    "let listMax  (list : int list) = \n",
    "    let mutable maxValue = list.[0] \n",
    "    for i in list do\n",
    "        if i > maxValue then\n",
    "            maxValue <- i\n",
    "    maxValue"
   ]
  },
  {
   "cell_type": "code",
   "execution_count": 47,
   "metadata": {
    "dotnet_interactive": {
     "language": "fsharp"
    },
    "polyglot_notebook": {
     "kernelName": "fsharp"
    }
   },
   "outputs": [
    {
     "data": {
      "text/html": [
       "<div class=\"dni-plaintext\"><pre>10</pre></div><style>\r\n",
       ".dni-code-hint {\r\n",
       "    font-style: italic;\r\n",
       "    overflow: hidden;\r\n",
       "    white-space: nowrap;\r\n",
       "}\r\n",
       ".dni-treeview {\r\n",
       "    white-space: nowrap;\r\n",
       "}\r\n",
       ".dni-treeview td {\r\n",
       "    vertical-align: top;\r\n",
       "    text-align: start;\r\n",
       "}\r\n",
       "details.dni-treeview {\r\n",
       "    padding-left: 1em;\r\n",
       "}\r\n",
       "table td {\r\n",
       "    text-align: start;\r\n",
       "}\r\n",
       "table tr { \r\n",
       "    vertical-align: top; \r\n",
       "    margin: 0em 0px;\r\n",
       "}\r\n",
       "table tr td pre \r\n",
       "{ \r\n",
       "    vertical-align: top !important; \r\n",
       "    margin: 0em 0px !important;\r\n",
       "} \r\n",
       "table th {\r\n",
       "    text-align: start;\r\n",
       "}\r\n",
       "</style>"
      ]
     },
     "metadata": {},
     "output_type": "display_data"
    }
   ],
   "source": [
    "listMax [1; 2; 3; 4; 5; 6; 7; 8; 9; 10]"
   ]
  },
  {
   "cell_type": "code",
   "execution_count": 48,
   "metadata": {
    "dotnet_interactive": {
     "language": "fsharp"
    },
    "polyglot_notebook": {
     "kernelName": "fsharp"
    }
   },
   "outputs": [
    {
     "data": {
      "text/html": [
       "<div class=\"dni-plaintext\"><pre>11</pre></div><style>\r\n",
       ".dni-code-hint {\r\n",
       "    font-style: italic;\r\n",
       "    overflow: hidden;\r\n",
       "    white-space: nowrap;\r\n",
       "}\r\n",
       ".dni-treeview {\r\n",
       "    white-space: nowrap;\r\n",
       "}\r\n",
       ".dni-treeview td {\r\n",
       "    vertical-align: top;\r\n",
       "    text-align: start;\r\n",
       "}\r\n",
       "details.dni-treeview {\r\n",
       "    padding-left: 1em;\r\n",
       "}\r\n",
       "table td {\r\n",
       "    text-align: start;\r\n",
       "}\r\n",
       "table tr { \r\n",
       "    vertical-align: top; \r\n",
       "    margin: 0em 0px;\r\n",
       "}\r\n",
       "table tr td pre \r\n",
       "{ \r\n",
       "    vertical-align: top !important; \r\n",
       "    margin: 0em 0px !important;\r\n",
       "} \r\n",
       "table th {\r\n",
       "    text-align: start;\r\n",
       "}\r\n",
       "</style>"
      ]
     },
     "metadata": {},
     "output_type": "display_data"
    }
   ],
   "source": [
    "listMax [1; 2; 3; 4; 11; 6; 7; 8; 9; 10]"
   ]
  },
  {
   "cell_type": "markdown",
   "metadata": {},
   "source": [
    "# Task 2: Classes and objects\n"
   ]
  },
  {
   "cell_type": "markdown",
   "metadata": {},
   "source": [
    "## Task 2.1: Basics\n"
   ]
  },
  {
   "cell_type": "markdown",
   "metadata": {},
   "source": [
    "\n",
    "\n",
    "### Subtask 2.1.1\n",
    "\n",
    "Here the class `Vehicle` gets declared. Try to comprehend what happens and shortly comment each line\n",
    "\n",
    "_keyword treasure trove_: method, field, constructor, parameter, alternative, bind\n",
    "\n",
    "\n"
   ]
  },
  {
   "cell_type": "code",
   "execution_count": 49,
   "metadata": {
    "dotnet_interactive": {
     "language": "fsharp"
    }
   },
   "outputs": [],
   "source": [
    "// Comment: class, constructor\n",
    "type Vehicle (manufacturer:string) =\n",
    "    // Comment: method,field,bind parameter\n",
    "    member self.Manufacturer = manufacturer\n",
    "    // Comment: method, \n",
    "    member self.Drive() = printfn \"%s makes wroooom\" self.Manufacturer\n",
    "    // Comment: alternative constructor\n",
    "    new() = Vehicle(\"SUV\")\n"
   ]
  },
  {
   "cell_type": "markdown",
   "metadata": {},
   "source": [
    "### Subtask 2.1.2\n",
    "\n",
    "Instantiate 2 objects of type `Vehicle`. In one case use the main constructor and in the other use the alternative constructor.\n",
    "\n"
   ]
  },
  {
   "cell_type": "code",
   "execution_count": 50,
   "metadata": {
    "dotnet_interactive": {
     "language": "fsharp"
    }
   },
   "outputs": [],
   "source": [
    "\n",
    "let car1 = new Vehicle(\"Toyota\")\n",
    "let car2 = new Vehicle()"
   ]
  },
  {
   "cell_type": "code",
   "execution_count": 51,
   "metadata": {
    "dotnet_interactive": {
     "language": "fsharp"
    },
    "polyglot_notebook": {
     "kernelName": "fsharp"
    }
   },
   "outputs": [
    {
     "name": "stdout",
     "output_type": "stream",
     "text": [
      "SUV makes wroooom\n"
     ]
    }
   ],
   "source": [
    "car2.Drive()"
   ]
  },
  {
   "cell_type": "markdown",
   "metadata": {},
   "source": [
    "## Task 2.2: Inheritance"
   ]
  },
  {
   "cell_type": "markdown",
   "metadata": {},
   "source": [
    "\n",
    "\n",
    "### Subtask 2.2.1\n",
    "\n",
    "Here is an example for the inheritance of a class. The class `Motorcycle` inherits from the class `Vehicle`\n",
    "\n",
    "Analogously, create the class `Car`, which also inherits from `Vehicle`. Additionally, it should have the field `NumDoors`. \n",
    "For this, choose an appropriate primitive type and adjust the constructor to allow for setting the number of doors when instantiating a car object.\n",
    "\n"
   ]
  },
  {
   "cell_type": "code",
   "execution_count": 52,
   "metadata": {
    "dotnet_interactive": {
     "language": "fsharp"
    }
   },
   "outputs": [],
   "source": [
    "type Motorcycle (manufacturer:string) =\n",
    "\n",
    "    inherit Vehicle(manufacturer)\n",
    "\n",
    "    new() = Motorcycle(\"Harley Davidson\")\n",
    "\n",
    "\n",
    "type Car (manufacturer:string, numberDoors:int) =\n",
    "\n",
    "    inherit Vehicle(manufacturer)\n",
    "\n",
    "    member this.NumDoors = numberDoors\n",
    "\n",
    "    new() = Car(\"Toyota\", 4)\n"
   ]
  },
  {
   "cell_type": "markdown",
   "metadata": {},
   "source": [
    "### Subtask 2.2.2\n",
    "\n",
    "Create a function which has a parameter of type `Vehicle` and calls the `Drive` method of this vehicle.\n",
    "\n"
   ]
  },
  {
   "cell_type": "code",
   "execution_count": 53,
   "metadata": {
    "dotnet_interactive": {
     "language": "fsharp"
    }
   },
   "outputs": [],
   "source": [
    "\n",
    "let wroomWroom (vehicle:Vehicle) = \n",
    "    vehicle.Drive()"
   ]
  },
  {
   "cell_type": "markdown",
   "metadata": {},
   "source": [
    "### Subtask 2.2.3\n",
    "\n",
    "Instantiate a `Car` and bind it to a name. Use the function defined in subtaks 2.2.2 to let the car drive"
   ]
  },
  {
   "cell_type": "code",
   "execution_count": 54,
   "metadata": {
    "dotnet_interactive": {
     "language": "fsharp"
    }
   },
   "outputs": [
    {
     "name": "stdout",
     "output_type": "stream",
     "text": [
      "Smart makes wroooom\n"
     ]
    }
   ],
   "source": [
    "let carcar = \n",
    "    new Car(\"Smart\", 3)\n",
    "\n",
    "\n",
    "wroomWroom carcar"
   ]
  },
  {
   "cell_type": "markdown",
   "metadata": {},
   "source": [
    "\n",
    "## Task 2.3: Mutable values in objects (Bonus task)\n",
    "\n",
    "Define a class `Convertible` which inherits from `Vehicle`. \n",
    "\n",
    "This class should contain a field `RoofOpen` of type `bool` and additionally methods for closing and opening its roof.\n"
   ]
  },
  {
   "cell_type": "code",
   "execution_count": 55,
   "metadata": {
    "dotnet_interactive": {
     "language": "fsharp"
    }
   },
   "outputs": [
    {
     "name": "stdout",
     "output_type": "stream",
     "text": [
      "Roof is now open.\n"
     ]
    }
   ],
   "source": [
    "type Convertible (manufacturer:string) =\n",
    "\n",
    "    inherit Vehicle(manufacturer)\n",
    "\n",
    "    let mutable RoofOpen = false\n",
    "\n",
    "    // Feld abrufbar aber nicht verwänderbar\n",
    "    member this.roofOpen = RoofOpen\n",
    "\n",
    "    // Methoden, zur gezielten Zustandsänderung\n",
    "    member self.Open() = \n",
    "        if RoofOpen then printfn \"Roof is already open!\"\n",
    "        else printfn \"Roof is now open.\"\n",
    "        RoofOpen <- true\n",
    "\n",
    "    member self.Close() = \n",
    "        if RoofOpen then printfn \"Roof is already closed!\"\n",
    "        else printfn \"Roof is already closed.\"\n",
    "        RoofOpen <- false        \n",
    "\n",
    "    // Methoden, zum automatischen Zustandswechsel\n",
    "    member this.executeRoof() =\n",
    "        if RoofOpen = true then \n",
    "            RoofOpen <- false\n",
    "        else\n",
    "            RoofOpen <- true\n",
    "\n",
    "\n",
    "// Zusätzliche Hilfsfunktionen\n",
    "let closeRoof (c:Convertible) = \n",
    "    c.Close()\n",
    "\n",
    "let openRoof (c:Convertible) = \n",
    "    c.Open()\n",
    "\n",
    "\n",
    "let neuesCabrio = new Convertible(\"Audi\")\n",
    "\n",
    "openRoof neuesCabrio\n"
   ]
  },
  {
   "cell_type": "markdown",
   "metadata": {},
   "source": [
    "# Task 3: Polymorphism"
   ]
  },
  {
   "cell_type": "markdown",
   "metadata": {},
   "source": [
    "\n",
    "## Task 3.1\n",
    "\n",
    "We want to implement people which can say their name. In Japan, usually the surname is stated prior to the given name. In germany it's the other way round.\n",
    "The singer known as Yoko Ono in germany therefore is known as Ono Yoko in Japan. To express this difference programmatically, we wrote the following code:\n",
    "\n",
    "Assign the following keywords to the codeblocks below: `Class declaration`, `Object instantiation`, `Interface declaration`\n",
    "\n",
    "\n"
   ]
  },
  {
   "cell_type": "code",
   "execution_count": 56,
   "metadata": {
    "dotnet_interactive": {
     "language": "fsharp"
    }
   },
   "outputs": [],
   "source": [
    "// Keyword: Interface declaration\n",
    "type IPerson =\n",
    "    abstract Surname    : string\n",
    "    abstract GivenName  : string\n",
    "    abstract SayName    : unit -> string\n",
    "\n",
    "// Keyword: Class declaration\n",
    "type Japanese (sn, gn) =\n",
    "    let surname = sn\n",
    "    let givenName = gn\n",
    "    interface IPerson with\n",
    "        member self.Surname = surname\n",
    "        member self.GivenName = givenName\n",
    "        member self.SayName () = surname + \" \" + givenName\n",
    "\n",
    "// Keyword: Class declaration\n",
    "type German (sn, gn) =\n",
    "    let surname = sn\n",
    "    let givenName = gn\n",
    "    interface IPerson with\n",
    "        member self.Surname = surname\n",
    "        member self.GivenName = givenName\n",
    "        member self.SayName () = givenName + \" \" + surname\n",
    "\n",
    "// Keyword: Object instantiation\n",
    "let yokoOno = Japanese(\"Ono\",\"Yoko\")\n",
    "\n",
    "// Keyword: Object instantiation\n",
    "let angeloMerte = German(\"Merte\",\"Angelo\")\n"
   ]
  },
  {
   "cell_type": "markdown",
   "metadata": {},
   "source": [
    "## Task 3.2\n",
    "\n",
    "Call the method `SayName` of both persons. \n",
    "\n",
    "Hint: Use the correct `casting Operator`\n",
    "\n"
   ]
  },
  {
   "cell_type": "code",
   "execution_count": 57,
   "metadata": {
    "dotnet_interactive": {
     "language": "fsharp"
    }
   },
   "outputs": [
    {
     "data": {
      "text/plain": [
       "Ono Yoko"
      ]
     },
     "metadata": {},
     "output_type": "display_data"
    }
   ],
   "source": [
    "let say = yokoOno :> IPerson\n",
    "say.SayName()\n",
    "\n",
    "// Variante2\n",
    "(angeloMerte :> IPerson).SayName()\n",
    "\n",
    "// Variante3\n",
    "let namenSagen (p : #IPerson) =\n",
    "    p.SayName()\n",
    "\n",
    "namenSagen yokoOno\n"
   ]
  },
  {
   "cell_type": "markdown",
   "metadata": {},
   "source": [
    "## Task 3.3\n",
    "\n",
    "Shortly explain in your own words, why we used polymorphism instead of inheritance in this example.\n",
    "\n"
   ]
  },
  {
   "cell_type": "code",
   "execution_count": 58,
   "metadata": {
    "dotnet_interactive": {
     "language": "fsharp"
    }
   },
   "outputs": [],
   "source": [
    "// In diesem Fall sollen alle Personen die gleiche Methode `NamenSagen` besitzen. Was genau in der Methode passiert soll aber je nach Nationalität unterschiedlich sein.\n",
    "// Bei Vererbung würde das Verhalten der Methode einmal definiert werden und alle erbenden Personen würde den Namen auf die gleich Weise sagen.\n",
    "// Polymorphismus erlaubt es, dass das konkrete Verhalten sich für die gleich benutzbare Methode zwischen den Leuten unterscheidet.\n"
   ]
  },
  {
   "cell_type": "markdown",
   "metadata": {},
   "source": [
    "## Task 3.4\n",
    "\n",
    "In the mystic country Bambaloozle the surname of a person gets said prior to the given name, just like in Germany. But: Both names get reverted (Angela Merkel -> alegnA lekreM)\n",
    "\n",
    "Declare the class `Bambaloose`, which implements the interface `IPerson`.\n",
    "\n",
    "Hint: Use the given string revert function\n",
    "\n",
    "\n"
   ]
  },
  {
   "cell_type": "code",
   "execution_count": 59,
   "metadata": {
    "dotnet_interactive": {
     "language": "fsharp"
    }
   },
   "outputs": [],
   "source": [
    "let revert (s:string) = System.String(s.ToCharArray() |> Array.rev)\n"
   ]
  },
  {
   "cell_type": "code",
   "execution_count": 60,
   "metadata": {
    "dotnet_interactive": {
     "language": "fsharp"
    },
    "polyglot_notebook": {
     "kernelName": "fsharp"
    }
   },
   "outputs": [
    {
     "data": {
      "text/plain": [
       "milbmA milbmaK"
      ]
     },
     "metadata": {},
     "output_type": "display_data"
    }
   ],
   "source": [
    "type Bambaloose (fn, en) =\n",
    "    let surname = fn\n",
    "    let givenName = en \n",
    "    interface IPerson with\n",
    "        member self.Surname = surname\n",
    "        member self.GivenName = givenName\n",
    "        member self.SayName () = revert givenName + \" \" + revert surname\n",
    "\n",
    "let amblimKamblim = Bambaloose(\"Kamblim\", \"Amblim\")\n",
    "(amblimKamblim :> IPerson).SayName()"
   ]
  }
 ],
 "metadata": {
  "kernelspec": {
   "display_name": ".NET (F#)",
   "language": "F#",
   "name": ".net-fsharp"
  },
  "langauge_info": {
   "file_extension": ".fs",
   "mimetype": "text/x-fsharp",
   "name": "C#",
   "pygments_lexer": "fsharp",
   "version": "4.5"
  },
  "language_info": {
   "name": "polyglot-notebook"
  },
  "polyglot_notebook": {
   "kernelInfo": {
    "defaultKernelName": "fsharp",
    "items": [
     {
      "aliases": [],
      "name": "fsharp"
     }
    ]
   }
  }
 },
 "nbformat": 4,
 "nbformat_minor": 1
}
