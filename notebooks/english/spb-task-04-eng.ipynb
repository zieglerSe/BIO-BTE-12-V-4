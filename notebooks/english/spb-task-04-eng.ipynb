{
 "cells": [
  {
   "cell_type": "markdown",
   "metadata": {},
   "source": [
    "# SPB IV - Programming with functions\n",
    "---\n",
    "In this task you'll learn about higher order functions, apply the pipe operator, and repeat the concept of function signatures. Additionally, the use of functions as parameters is introduced. Higher order functions are then applied on collection types introducing the `map` function."
   ]
  },
  {
   "cell_type": "markdown",
   "metadata": {},
   "source": [
    "\n",
    "# Task 1: Higher order functions\n"
   ]
  },
  {
   "cell_type": "markdown",
   "metadata": {},
   "source": [
    "## Task 1.1\n",
    "\n",
    "Rewrite the following function by using the pipe operator `|>` and the given functions.\n",
    "\n",
    "Clue: \n",
    "\n",
    "  - Pipe operators lead to a positioning of the parameter left of the operator to the end of the content right to it: \n",
    "\n",
    "  - `a |> add b` is equal to `add b a`"
   ]
  },
  {
   "cell_type": "code",
   "execution_count": null,
   "metadata": {
    "dotnet_interactive": {
     "language": "fsharp"
    }
   },
   "outputs": [],
   "source": [
    "let mathNotation x y = (((x + 2.) + 3. * 2.) ** y) * 0.5\n",
    "\n",
    "let add (a:float) b = a + b\n",
    "let square (x :float) = x * x\n",
    "let multiply (a:float) b = a * b\n",
    "\n",
    "let pipeNotation x y =\n",
    "    1. //replace me\n",
    "\n",
    "// Test if both notations report the same result\n",
    "pipeNotation 1. 7. = mathNotation 1. 7.\n"
   ]
  },
  {
   "cell_type": "markdown",
   "metadata": {},
   "source": [
    "## Task 1.2\n",
    "\n",
    "Declare any function with the signature `float -> float -> float`. Make sure that all parameters are used within the function body.\n",
    "\n",
    "Is it a first order function or a higher order function?\n",
    "\n",
    "\n"
   ]
  },
  {
   "cell_type": "code",
   "execution_count": null,
   "metadata": {
    "dotnet_interactive": {
     "language": "fsharp"
    }
   },
   "outputs": [],
   "source": [
    "\n",
    "\n",
    "(*\n",
    "[] first order function\n",
    "[] higher order function    \n",
    "*)"
   ]
  },
  {
   "cell_type": "markdown",
   "metadata": {},
   "source": [
    "## Task 1.3\n",
    "\n",
    "\n",
    "Declare any function with the signature `(float -> float -> float) -> float -> float -> int`. Make sure that all parameters are used within the function body.\n",
    "\n",
    "Is it a first order function or a higher order function?\n",
    "\n",
    "\n"
   ]
  },
  {
   "cell_type": "code",
   "execution_count": null,
   "metadata": {
    "dotnet_interactive": {
     "language": "fsharp"
    }
   },
   "outputs": [],
   "source": [
    "\n",
    "(*\n",
    "[] first order function\n",
    "[] higher order function    \n",
    "*)"
   ]
  },
  {
   "cell_type": "markdown",
   "metadata": {},
   "source": [
    "## Task 1.4\n",
    "\n",
    "Call the function defined in `1.3`. Use two values of your choice and the function from `1.2` as parameters.\n",
    "\n",
    "\n"
   ]
  },
  {
   "cell_type": "code",
   "execution_count": null,
   "metadata": {
    "dotnet_interactive": {
     "language": "fsharp"
    }
   },
   "outputs": [],
   "source": [
    "\n"
   ]
  },
  {
   "cell_type": "markdown",
   "metadata": {},
   "source": [
    "# Task 2: Programming with functions"
   ]
  },
  {
   "cell_type": "markdown",
   "metadata": {},
   "source": [
    "\n",
    "## Task 2.1.1\n",
    "\n",
    "Below you can see a record type called `Dog`. Create two random values of type `Dog` and bind them to random names.\n",
    "Have a look at `task 02` if you have any difficulties here.\n",
    "\n",
    "\n"
   ]
  },
  {
   "cell_type": "code",
   "execution_count": null,
   "metadata": {
    "dotnet_interactive": {
     "language": "fsharp"
    }
   },
   "outputs": [],
   "source": [
    "type Dog = {\n",
    "    Name    : string\n",
    "    Height  : float\n",
    "    Origin  : string\n",
    "    Age     : int}\n"
   ]
  },
  {
   "cell_type": "markdown",
   "metadata": {},
   "source": [
    "## Task 2.1.2\n",
    "\n",
    "Declare a function called `getHeight`, that takes a `Dog` as parameter and reports its height.\n",
    "\n",
    "\n"
   ]
  },
  {
   "cell_type": "code",
   "execution_count": null,
   "metadata": {
    "dotnet_interactive": {
     "language": "fsharp"
    }
   },
   "outputs": [],
   "source": [
    "\n"
   ]
  },
  {
   "cell_type": "markdown",
   "metadata": {},
   "source": [
    "## Task 2.1.3\n",
    "\n",
    "You cannot apply standard mathematical operators to record types. \n",
    "Declare a function called `applyToAge` that receives two parameters of type Dog (d1 and d2) and one parameter of type `(int -> int -> float)` (f). \n",
    "In the function body, the function f should be applied to the ages of d1 and d2.\n",
    "\n",
    "Clue: Define the types of the parameters. \n",
    "\n",
    "\n"
   ]
  },
  {
   "cell_type": "code",
   "execution_count": null,
   "metadata": {
    "dotnet_interactive": {
     "language": "fsharp"
    }
   },
   "outputs": [],
   "source": [
    "\n"
   ]
  },
  {
   "cell_type": "markdown",
   "metadata": {},
   "source": [
    "## Task 2.1.4\n",
    " \n",
    "Apply the function `applyToAge` with the previously created `Dogs` and the function `averageOfTwo`.  \n",
    "\n",
    "\n"
   ]
  },
  {
   "cell_type": "code",
   "execution_count": null,
   "metadata": {
    "dotnet_interactive": {
     "language": "fsharp"
    }
   },
   "outputs": [],
   "source": [
    "let averageOfTwo (a:int) b =\n",
    "    (float a + float b) / 2.\n"
   ]
  },
  {
   "cell_type": "markdown",
   "metadata": {},
   "source": [
    "## Task 2.2.1\n",
    "\n",
    "Create a `float array` with the values from 100. to 200. and bind it to the name `nArray`.\n"
   ]
  },
  {
   "cell_type": "code",
   "execution_count": null,
   "metadata": {
    "dotnet_interactive": {
     "language": "fsharp"
    },
    "polyglot_notebook": {
     "kernelName": "fsharp"
    }
   },
   "outputs": [],
   "source": []
  },
  {
   "cell_type": "markdown",
   "metadata": {},
   "source": [
    "## Task 2.2.2\n",
    "\n",
    "With map functions, one can apply a function that can be applied to individual elements to all elements of a list.\n",
    "Parameters of the `map` function:\n",
    "\n",
    "  1. `doSomethingWithX`:  Function to be applied to each list item\n",
    "\n",
    "  2. `array`:              Array of elements to which `doSomeThingWithX` is to be applied\n",
    "\n",
    "`Array.map` is applied as follows:\n",
    "\n",
    "  - `Array.map (fun arrayElement -> doSomethingWithX arrayElement) array`\n",
    "\n",
    "Apply the function `square` (Task 1.1) to each element of `nArray`. Bind the result to the name `nArraySquared`.\n",
    "\n",
    "\n"
   ]
  },
  {
   "cell_type": "code",
   "execution_count": null,
   "metadata": {
    "dotnet_interactive": {
     "language": "fsharp"
    }
   },
   "outputs": [],
   "source": [
    "\n"
   ]
  },
  {
   "cell_type": "markdown",
   "metadata": {},
   "source": [
    "## Task 2.2.3\n",
    "\n",
    "Calculate the sum of the values from `nArray`. \n",
    "\n",
    "\n"
   ]
  },
  {
   "cell_type": "code",
   "execution_count": null,
   "metadata": {
    "dotnet_interactive": {
     "language": "fsharp"
    }
   },
   "outputs": [],
   "source": [
    "\n"
   ]
  },
  {
   "cell_type": "markdown",
   "metadata": {},
   "source": [
    "## Task 2.2.4\n",
    "\n",
    "Filter all array items that are divisible by 10.\n",
    "\n",
    "Clue: Make use of `Array.filter` and the given function.\n",
    "\n",
    "\n"
   ]
  },
  {
   "cell_type": "code",
   "execution_count": null,
   "metadata": {
    "dotnet_interactive": {
     "language": "fsharp"
    }
   },
   "outputs": [],
   "source": [
    "let isDivisibleWithoutRemainder denominator numerator =\n",
    "    numerator % denominator = 0.\n"
   ]
  },
  {
   "cell_type": "markdown",
   "metadata": {},
   "source": [
    "## Task 2.2.5\n",
    "\n",
    "Calculate the sum of the squares of the individual values from `nArray`.\n",
    "Try to achieve this in one step with `Array.fold`.\n",
    "\n",
    "\n"
   ]
  },
  {
   "cell_type": "code",
   "execution_count": null,
   "metadata": {
    "dotnet_interactive": {
     "language": "fsharp"
    }
   },
   "outputs": [],
   "source": [
    "\n"
   ]
  },
  {
   "cell_type": "markdown",
   "metadata": {},
   "source": [
    "## Task 2.3"
   ]
  },
  {
   "cell_type": "code",
   "execution_count": null,
   "metadata": {
    "dotnet_interactive": {
     "language": "fsharp"
    },
    "polyglot_notebook": {
     "kernelName": "fsharp"
    }
   },
   "outputs": [],
   "source": [
    "// This is a random number generator. \n",
    "// randomNumberGenerator.NextDouble() creates a random float between 0. and 1.\n",
    "// randomNumberGenerator.Next(x) creates a random int between 0 and x-1.\n",
    "let randomNumberGenerator = System.Random()\n",
    "\n",
    "// Here a function is defined that creates a value of typ Dog.\n",
    "let createRandomDog (i :int) = \n",
    "    let name   = \"Dog \" + string i \n",
    "    let age    = randomNumberGenerator.Next(16)\n",
    "    let height = 15. + 60. * randomNumberGenerator.NextDouble()\n",
    "    let origin  = \n",
    "        let origins = [\"Bayern\";\"Saarland\";\"Rheinland-Pfalz\";\"Hessen\"]\n",
    "        origins.[i%4]\n",
    "    {\n",
    "    Name    = name\n",
    "    Height  = height\n",
    "    Origin   = origin   \n",
    "    Age     = age\n",
    "    }\n",
    "\n",
    "let dogList = [for i=1 to 60 do yield createRandomDog i]\n"
   ]
  },
  {
   "cell_type": "markdown",
   "metadata": {},
   "source": [
    "## Task 2.3.1\n",
    "\n",
    "Extract all heights from `dogList` and bind it to the name `dogHeights`\n",
    "\n",
    "Clue: Search the `List` module for a suitable function.\n"
   ]
  },
  {
   "cell_type": "code",
   "execution_count": null,
   "metadata": {
    "dotnet_interactive": {
     "language": "fsharp"
    },
    "polyglot_notebook": {
     "kernelName": "fsharp"
    }
   },
   "outputs": [],
   "source": []
  },
  {
   "cell_type": "markdown",
   "metadata": {},
   "source": [
    "## Task 2.3.2\n",
    "\n",
    "Calculate the average height of dogs from `dogsList`.\n",
    "\n",
    "Clue: The task can either be solved by using functions from the `List` module, or you can solve it by using a single fold function (for experts).\n"
   ]
  },
  {
   "cell_type": "code",
   "execution_count": null,
   "metadata": {
    "dotnet_interactive": {
     "language": "fsharp"
    },
    "polyglot_notebook": {
     "kernelName": "fsharp"
    }
   },
   "outputs": [],
   "source": []
  },
  {
   "cell_type": "markdown",
   "metadata": {},
   "source": [
    "## Task 2.3.3 (Bonus)\n",
    "\n",
    "In Tasks 2.2 and 2.3, arrays and lists were used. Describe briefly 2 differences between the two collection types."
   ]
  },
  {
   "cell_type": "markdown",
   "metadata": {},
   "source": []
  }
 ],
 "metadata": {
  "kernelspec": {
   "display_name": ".NET (F#)",
   "language": "F#",
   "name": ".net-fsharp"
  },
  "langauge_info": {
   "file_extension": ".fs",
   "mimetype": "text/x-fsharp",
   "name": "C#",
   "pygments_lexer": "fsharp",
   "version": "4.5"
  },
  "language_info": {
   "name": "polyglot-notebook"
  },
  "polyglot_notebook": {
   "kernelInfo": {
    "defaultKernelName": "fsharp",
    "items": [
     {
      "aliases": [],
      "name": "fsharp"
     }
    ]
   }
  }
 },
 "nbformat": 4,
 "nbformat_minor": 1
}
